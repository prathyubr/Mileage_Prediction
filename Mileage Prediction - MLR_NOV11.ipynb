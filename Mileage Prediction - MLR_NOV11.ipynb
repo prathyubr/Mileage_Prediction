{
 "cells": [
  {
   "cell_type": "markdown",
   "id": "03d2741a",
   "metadata": {},
   "source": [
    "## 1. Import necessasry libraries"
   ]
  },
  {
   "cell_type": "code",
   "execution_count": 35,
   "id": "a9dcea9e",
   "metadata": {},
   "outputs": [],
   "source": [
    "import pandas as pd\n",
    "from matplotlib import pyplot as plt\n",
    "import seaborn as sns\n",
    "\n",
    "\n",
    "import warnings\n",
    "warnings.filterwarnings('ignore')"
   ]
  },
  {
   "cell_type": "markdown",
   "id": "acddf49f",
   "metadata": {},
   "source": [
    "## 2. Import data"
   ]
  },
  {
   "cell_type": "code",
   "execution_count": 2,
   "id": "2a9838fd",
   "metadata": {},
   "outputs": [
    {
     "data": {
      "text/html": [
       "<div>\n",
       "<style scoped>\n",
       "    .dataframe tbody tr th:only-of-type {\n",
       "        vertical-align: middle;\n",
       "    }\n",
       "\n",
       "    .dataframe tbody tr th {\n",
       "        vertical-align: top;\n",
       "    }\n",
       "\n",
       "    .dataframe thead th {\n",
       "        text-align: right;\n",
       "    }\n",
       "</style>\n",
       "<table border=\"1\" class=\"dataframe\">\n",
       "  <thead>\n",
       "    <tr style=\"text-align: right;\">\n",
       "      <th></th>\n",
       "      <th>HP</th>\n",
       "      <th>MPG</th>\n",
       "      <th>VOL</th>\n",
       "      <th>SP</th>\n",
       "      <th>WT</th>\n",
       "    </tr>\n",
       "  </thead>\n",
       "  <tbody>\n",
       "    <tr>\n",
       "      <th>0</th>\n",
       "      <td>49</td>\n",
       "      <td>53.700681</td>\n",
       "      <td>89</td>\n",
       "      <td>104.185353</td>\n",
       "      <td>28.762059</td>\n",
       "    </tr>\n",
       "    <tr>\n",
       "      <th>1</th>\n",
       "      <td>55</td>\n",
       "      <td>50.013401</td>\n",
       "      <td>92</td>\n",
       "      <td>105.461264</td>\n",
       "      <td>30.466833</td>\n",
       "    </tr>\n",
       "    <tr>\n",
       "      <th>2</th>\n",
       "      <td>55</td>\n",
       "      <td>50.013401</td>\n",
       "      <td>92</td>\n",
       "      <td>105.461264</td>\n",
       "      <td>30.193597</td>\n",
       "    </tr>\n",
       "    <tr>\n",
       "      <th>3</th>\n",
       "      <td>70</td>\n",
       "      <td>45.696322</td>\n",
       "      <td>92</td>\n",
       "      <td>113.461264</td>\n",
       "      <td>30.632114</td>\n",
       "    </tr>\n",
       "    <tr>\n",
       "      <th>4</th>\n",
       "      <td>53</td>\n",
       "      <td>50.504232</td>\n",
       "      <td>92</td>\n",
       "      <td>104.461264</td>\n",
       "      <td>29.889149</td>\n",
       "    </tr>\n",
       "    <tr>\n",
       "      <th>...</th>\n",
       "      <td>...</td>\n",
       "      <td>...</td>\n",
       "      <td>...</td>\n",
       "      <td>...</td>\n",
       "      <td>...</td>\n",
       "    </tr>\n",
       "    <tr>\n",
       "      <th>76</th>\n",
       "      <td>322</td>\n",
       "      <td>36.900000</td>\n",
       "      <td>50</td>\n",
       "      <td>169.598513</td>\n",
       "      <td>16.132947</td>\n",
       "    </tr>\n",
       "    <tr>\n",
       "      <th>77</th>\n",
       "      <td>238</td>\n",
       "      <td>19.197888</td>\n",
       "      <td>115</td>\n",
       "      <td>150.576579</td>\n",
       "      <td>37.923113</td>\n",
       "    </tr>\n",
       "    <tr>\n",
       "      <th>78</th>\n",
       "      <td>263</td>\n",
       "      <td>34.000000</td>\n",
       "      <td>50</td>\n",
       "      <td>151.598513</td>\n",
       "      <td>15.769625</td>\n",
       "    </tr>\n",
       "    <tr>\n",
       "      <th>79</th>\n",
       "      <td>295</td>\n",
       "      <td>19.833733</td>\n",
       "      <td>119</td>\n",
       "      <td>167.944460</td>\n",
       "      <td>39.423099</td>\n",
       "    </tr>\n",
       "    <tr>\n",
       "      <th>80</th>\n",
       "      <td>236</td>\n",
       "      <td>12.101263</td>\n",
       "      <td>107</td>\n",
       "      <td>139.840817</td>\n",
       "      <td>34.948615</td>\n",
       "    </tr>\n",
       "  </tbody>\n",
       "</table>\n",
       "<p>81 rows × 5 columns</p>\n",
       "</div>"
      ],
      "text/plain": [
       "     HP        MPG  VOL          SP         WT\n",
       "0    49  53.700681   89  104.185353  28.762059\n",
       "1    55  50.013401   92  105.461264  30.466833\n",
       "2    55  50.013401   92  105.461264  30.193597\n",
       "3    70  45.696322   92  113.461264  30.632114\n",
       "4    53  50.504232   92  104.461264  29.889149\n",
       "..  ...        ...  ...         ...        ...\n",
       "76  322  36.900000   50  169.598513  16.132947\n",
       "77  238  19.197888  115  150.576579  37.923113\n",
       "78  263  34.000000   50  151.598513  15.769625\n",
       "79  295  19.833733  119  167.944460  39.423099\n",
       "80  236  12.101263  107  139.840817  34.948615\n",
       "\n",
       "[81 rows x 5 columns]"
      ]
     },
     "execution_count": 2,
     "metadata": {},
     "output_type": "execute_result"
    }
   ],
   "source": [
    "cars_data = pd.read_csv('Cars.csv')\n",
    "cars_data"
   ]
  },
  {
   "cell_type": "markdown",
   "id": "9281a3f1",
   "metadata": {},
   "source": [
    "## 3. Data Understanding\n",
    "\n",
    "### 3.1 Initial Analysis"
   ]
  },
  {
   "cell_type": "code",
   "execution_count": 3,
   "id": "cf21c227",
   "metadata": {},
   "outputs": [
    {
     "data": {
      "text/plain": [
       "(81, 5)"
      ]
     },
     "execution_count": 3,
     "metadata": {},
     "output_type": "execute_result"
    }
   ],
   "source": [
    "cars_data.shape"
   ]
  },
  {
   "cell_type": "code",
   "execution_count": 4,
   "id": "99a4d36f",
   "metadata": {},
   "outputs": [
    {
     "data": {
      "text/plain": [
       "HP     0\n",
       "MPG    0\n",
       "VOL    0\n",
       "SP     0\n",
       "WT     0\n",
       "dtype: int64"
      ]
     },
     "execution_count": 4,
     "metadata": {},
     "output_type": "execute_result"
    }
   ],
   "source": [
    "cars_data.isna().sum()"
   ]
  },
  {
   "cell_type": "code",
   "execution_count": 5,
   "id": "9c9da473",
   "metadata": {},
   "outputs": [
    {
     "data": {
      "text/plain": [
       "HP       int64\n",
       "MPG    float64\n",
       "VOL      int64\n",
       "SP     float64\n",
       "WT     float64\n",
       "dtype: object"
      ]
     },
     "execution_count": 5,
     "metadata": {},
     "output_type": "execute_result"
    }
   ],
   "source": [
    "cars_data.dtypes"
   ]
  },
  {
   "cell_type": "markdown",
   "id": "14950277",
   "metadata": {},
   "source": [
    "### 3.2 Assumptions Check"
   ]
  },
  {
   "cell_type": "markdown",
   "id": "11fb9113",
   "metadata": {},
   "source": [
    "### Assumption 1 : Test for Linearity"
   ]
  },
  {
   "cell_type": "code",
   "execution_count": 7,
   "id": "754e134b",
   "metadata": {},
   "outputs": [
    {
     "data": {
      "image/png": "[encoded data removed]",
      "text/plain": [
       "<Figure size 360x360 with 1 Axes>"
      ]
     },
     "metadata": {
      "needs_background": "light"
     },
     "output_type": "display_data"
    }
   ],
   "source": [
    "sns.lmplot(x='HP',y='MPG',data=cars_data)\n",
    "plt.title('HP Vs MPG')\n",
    "plt.show()"
   ]
  },
  {
   "cell_type": "code",
   "execution_count": 8,
   "id": "a2801ce7",
   "metadata": {},
   "outputs": [
    {
     "data": {
      "image/png": "[encoded data removed]",
      "text/plain": [
       "<Figure size 360x360 with 1 Axes>"
      ]
     },
     "metadata": {
      "needs_background": "light"
     },
     "output_type": "display_data"
    }
   ],
   "source": [
    "sns.lmplot(x='VOL',y='MPG',data=cars_data)\n",
    "plt.title('VOL Vs MPG')\n",
    "plt.show()"
   ]
  },
  {
   "cell_type": "code",
   "execution_count": 9,
   "id": "d98ca733",
   "metadata": {},
   "outputs": [
    {
     "data": {
      "image/png": "[encoded data removed]",
      "text/plain": [
       "<Figure size 360x360 with 1 Axes>"
      ]
     },
     "metadata": {
      "needs_background": "light"
     },
     "output_type": "display_data"
    }
   ],
   "source": [
    "sns.lmplot(x='SP',y='MPG',data=cars_data)\n",
    "plt.title('SP Vs MPG')\n",
    "plt.show()"
   ]
  },
  {
   "cell_type": "code",
   "execution_count": 10,
   "id": "2f06abbb",
   "metadata": {},
   "outputs": [
    {
     "data": {
      "image/png": "[encoded data removed]",
      "text/plain": [
       "<Figure size 360x360 with 1 Axes>"
      ]
     },
     "metadata": {
      "needs_background": "light"
     },
     "output_type": "display_data"
    }
   ],
   "source": [
    "sns.lmplot(x='WT',y='MPG',data=cars_data)\n",
    "plt.title('WT Vs MPG')\n",
    "plt.show()"
   ]
  },
  {
   "cell_type": "code",
   "execution_count": 11,
   "id": "618ab8b2",
   "metadata": {},
   "outputs": [
    {
     "data": {
      "image/png": "[encoded data removed]",
      "text/plain": [
       "<Figure size 900x900 with 30 Axes>"
      ]
     },
     "metadata": {
      "needs_background": "light"
     },
     "output_type": "display_data"
    }
   ],
   "source": [
    "sns.pairplot(data = cars_data)\n",
    "plt.show()"
   ]
  },
  {
   "cell_type": "markdown",
   "id": "451beb52",
   "metadata": {},
   "source": [
    "### Observation\n",
    "\n",
    "Linearity Test is **FAILED.**"
   ]
  },
  {
   "cell_type": "markdown",
   "id": "80a5aca0",
   "metadata": {},
   "source": [
    "## ========================================================================"
   ]
  },
  {
   "cell_type": "markdown",
   "id": "69c7867f",
   "metadata": {},
   "source": [
    "### Create a Reference data to understand how the features should behave for Linear Regression"
   ]
  },
  {
   "cell_type": "code",
   "execution_count": 13,
   "id": "7f6f8e7a",
   "metadata": {},
   "outputs": [
    {
     "data": {
      "text/plain": [
       "(81, 5)"
      ]
     },
     "execution_count": 13,
     "metadata": {},
     "output_type": "execute_result"
    }
   ],
   "source": [
    "cars_data.shape"
   ]
  },
  {
   "cell_type": "code",
   "execution_count": 31,
   "id": "78fc01a0",
   "metadata": {},
   "outputs": [],
   "source": [
    "import numpy as np\n",
    "X = np.random.randn(81)\n",
    "y = X * 10 + np.random.randn(81)*2"
   ]
  },
  {
   "cell_type": "code",
   "execution_count": 32,
   "id": "0d692017",
   "metadata": {},
   "outputs": [
    {
     "data": {
      "text/html": [
       "<div>\n",
       "<style scoped>\n",
       "    .dataframe tbody tr th:only-of-type {\n",
       "        vertical-align: middle;\n",
       "    }\n",
       "\n",
       "    .dataframe tbody tr th {\n",
       "        vertical-align: top;\n",
       "    }\n",
       "\n",
       "    .dataframe thead th {\n",
       "        text-align: right;\n",
       "    }\n",
       "</style>\n",
       "<table border=\"1\" class=\"dataframe\">\n",
       "  <thead>\n",
       "    <tr style=\"text-align: right;\">\n",
       "      <th></th>\n",
       "      <th>X</th>\n",
       "      <th>y</th>\n",
       "    </tr>\n",
       "  </thead>\n",
       "  <tbody>\n",
       "    <tr>\n",
       "      <th>0</th>\n",
       "      <td>1.254092</td>\n",
       "      <td>13.819841</td>\n",
       "    </tr>\n",
       "    <tr>\n",
       "      <th>1</th>\n",
       "      <td>1.411886</td>\n",
       "      <td>14.404896</td>\n",
       "    </tr>\n",
       "    <tr>\n",
       "      <th>2</th>\n",
       "      <td>2.508739</td>\n",
       "      <td>22.863014</td>\n",
       "    </tr>\n",
       "    <tr>\n",
       "      <th>3</th>\n",
       "      <td>-0.624824</td>\n",
       "      <td>-3.582315</td>\n",
       "    </tr>\n",
       "    <tr>\n",
       "      <th>4</th>\n",
       "      <td>-0.621181</td>\n",
       "      <td>-9.779264</td>\n",
       "    </tr>\n",
       "    <tr>\n",
       "      <th>...</th>\n",
       "      <td>...</td>\n",
       "      <td>...</td>\n",
       "    </tr>\n",
       "    <tr>\n",
       "      <th>76</th>\n",
       "      <td>-1.391760</td>\n",
       "      <td>-15.627767</td>\n",
       "    </tr>\n",
       "    <tr>\n",
       "      <th>77</th>\n",
       "      <td>0.314458</td>\n",
       "      <td>4.817917</td>\n",
       "    </tr>\n",
       "    <tr>\n",
       "      <th>78</th>\n",
       "      <td>-2.037051</td>\n",
       "      <td>-18.964390</td>\n",
       "    </tr>\n",
       "    <tr>\n",
       "      <th>79</th>\n",
       "      <td>0.045953</td>\n",
       "      <td>0.426379</td>\n",
       "    </tr>\n",
       "    <tr>\n",
       "      <th>80</th>\n",
       "      <td>-0.659249</td>\n",
       "      <td>-6.108726</td>\n",
       "    </tr>\n",
       "  </tbody>\n",
       "</table>\n",
       "<p>81 rows × 2 columns</p>\n",
       "</div>"
      ],
      "text/plain": [
       "           X          y\n",
       "0   1.254092  13.819841\n",
       "1   1.411886  14.404896\n",
       "2   2.508739  22.863014\n",
       "3  -0.624824  -3.582315\n",
       "4  -0.621181  -9.779264\n",
       "..       ...        ...\n",
       "76 -1.391760 -15.627767\n",
       "77  0.314458   4.817917\n",
       "78 -2.037051 -18.964390\n",
       "79  0.045953   0.426379\n",
       "80 -0.659249  -6.108726\n",
       "\n",
       "[81 rows x 2 columns]"
      ]
     },
     "execution_count": 32,
     "metadata": {},
     "output_type": "execute_result"
    }
   ],
   "source": [
    "demo_data = pd.DataFrame([X,y]).T\n",
    "demo_data.columns = ['X','y']\n",
    "demo_data"
   ]
  },
  {
   "cell_type": "markdown",
   "id": "2a96e177",
   "metadata": {},
   "source": [
    "### 1. Test of Linearity"
   ]
  },
  {
   "cell_type": "code",
   "execution_count": 33,
   "id": "f26c9f83",
   "metadata": {},
   "outputs": [
    {
     "data": {
      "image/png": "[encoded data removed]",
      "text/plain": [
       "<Figure size 360x360 with 1 Axes>"
      ]
     },
     "metadata": {
      "needs_background": "light"
     },
     "output_type": "display_data"
    }
   ],
   "source": [
    "sns.lmplot(x='X',y='y',data=demo_data)\n",
    "plt.show()"
   ]
  },
  {
   "cell_type": "markdown",
   "id": "306e88b6",
   "metadata": {},
   "source": [
    "### Observation\n",
    "\n",
    "Linearity Test is **PASS**."
   ]
  },
  {
   "cell_type": "markdown",
   "id": "b79e86b1",
   "metadata": {},
   "source": [
    "### 2. Test for Normality\n",
    "\n",
    "By using 2 techniques we can check whether the data is following Normal distribution or not.\n",
    "\n",
    "**1. By using DISTPLOT**\n",
    "\n",
    "**2. By using QQPLOT/PROBPLOT**"
   ]
  },
  {
   "cell_type": "markdown",
   "id": "9a31840c",
   "metadata": {},
   "source": [
    "#### Using Distplot"
   ]
  },
  {
   "cell_type": "code",
   "execution_count": 36,
   "id": "2980a4b0",
   "metadata": {},
   "outputs": [
    {
     "data": {
      "image/png": "[encoded data removed]",
      "text/plain": [
       "<Figure size 432x288 with 1 Axes>"
      ]
     },
     "metadata": {
      "needs_background": "light"
     },
     "output_type": "display_data"
    }
   ],
   "source": [
    "sns.distplot(a=demo_data['X'])\n",
    "plt.show()"
   ]
  },
  {
   "cell_type": "code",
   "execution_count": 41,
   "id": "f9d943b8",
   "metadata": {},
   "outputs": [
    {
     "data": {
      "text/plain": [
       "-0.09449421221780717"
      ]
     },
     "execution_count": 41,
     "metadata": {},
     "output_type": "execute_result"
    }
   ],
   "source": [
    "demo_data['X'].skew()"
   ]
  },
  {
   "cell_type": "code",
   "execution_count": 42,
   "id": "6c06cdbd",
   "metadata": {},
   "outputs": [
    {
     "data": {
      "text/plain": [
       "-0.3060097517400715"
      ]
     },
     "execution_count": 42,
     "metadata": {},
     "output_type": "execute_result"
    }
   ],
   "source": [
    "demo_data['X'].kurtosis()"
   ]
  },
  {
   "cell_type": "markdown",
   "id": "001cac16",
   "metadata": {},
   "source": [
    "### Observation:\n",
    "\n",
    "Normality Test is passed."
   ]
  },
  {
   "cell_type": "markdown",
   "id": "c01d5593",
   "metadata": {},
   "source": [
    "#### Using QQPLOT?PROBPLOT"
   ]
  },
  {
   "cell_type": "code",
   "execution_count": 40,
   "id": "4ebb4290",
   "metadata": {},
   "outputs": [
    {
     "data": {
      "image/png": "[encoded data removed]",
      "text/plain": [
       "<Figure size 432x288 with 1 Axes>"
      ]
     },
     "metadata": {
      "needs_background": "light"
     },
     "output_type": "display_data"
    }
   ],
   "source": [
    "from scipy import stats\n",
    "stats.probplot(x = demo_data['X'],dist='norm',plot=plt)\n",
    "plt.show()"
   ]
  },
  {
   "cell_type": "markdown",
   "id": "e868556e",
   "metadata": {},
   "source": [
    "### Observation\n",
    "\n",
    "The data is following Normal Distribution."
   ]
  },
  {
   "cell_type": "markdown",
   "id": "bf6cfcd3",
   "metadata": {},
   "source": [
    "### 3. No Auoregression - Passed."
   ]
  },
  {
   "cell_type": "markdown",
   "id": "e865a7c6",
   "metadata": {},
   "source": [
    "### 4. No Multicollinearity - Passed"
   ]
  },
  {
   "cell_type": "markdown",
   "id": "e2319da7",
   "metadata": {},
   "source": [
    "### 5. Homoscadasicity Check || 6. Zero Residual Mean Check:\n",
    "\n",
    "* Can be done post Model Training.\n",
    "\n",
    "##### Note: For Homoscadascity check, all the input features should be in similar scale."
   ]
  },
  {
   "cell_type": "markdown",
   "id": "ed90179a",
   "metadata": {},
   "source": [
    "## Model Building using SKLEARN library"
   ]
  },
  {
   "cell_type": "code",
   "execution_count": 51,
   "id": "7f1d97f1",
   "metadata": {},
   "outputs": [],
   "source": [
    "X = demo_data[['X']]\n",
    "y = demo_data[['y']]"
   ]
  },
  {
   "cell_type": "code",
   "execution_count": 52,
   "id": "423f58c3",
   "metadata": {},
   "outputs": [
    {
     "data": {
      "text/html": [
       "<div>\n",
       "<style scoped>\n",
       "    .dataframe tbody tr th:only-of-type {\n",
       "        vertical-align: middle;\n",
       "    }\n",
       "\n",
       "    .dataframe tbody tr th {\n",
       "        vertical-align: top;\n",
       "    }\n",
       "\n",
       "    .dataframe thead th {\n",
       "        text-align: right;\n",
       "    }\n",
       "</style>\n",
       "<table border=\"1\" class=\"dataframe\">\n",
       "  <thead>\n",
       "    <tr style=\"text-align: right;\">\n",
       "      <th></th>\n",
       "      <th>X</th>\n",
       "    </tr>\n",
       "  </thead>\n",
       "  <tbody>\n",
       "    <tr>\n",
       "      <th>0</th>\n",
       "      <td>1.254092</td>\n",
       "    </tr>\n",
       "    <tr>\n",
       "      <th>1</th>\n",
       "      <td>1.411886</td>\n",
       "    </tr>\n",
       "    <tr>\n",
       "      <th>2</th>\n",
       "      <td>2.508739</td>\n",
       "    </tr>\n",
       "    <tr>\n",
       "      <th>3</th>\n",
       "      <td>-0.624824</td>\n",
       "    </tr>\n",
       "    <tr>\n",
       "      <th>4</th>\n",
       "      <td>-0.621181</td>\n",
       "    </tr>\n",
       "    <tr>\n",
       "      <th>...</th>\n",
       "      <td>...</td>\n",
       "    </tr>\n",
       "    <tr>\n",
       "      <th>76</th>\n",
       "      <td>-1.391760</td>\n",
       "    </tr>\n",
       "    <tr>\n",
       "      <th>77</th>\n",
       "      <td>0.314458</td>\n",
       "    </tr>\n",
       "    <tr>\n",
       "      <th>78</th>\n",
       "      <td>-2.037051</td>\n",
       "    </tr>\n",
       "    <tr>\n",
       "      <th>79</th>\n",
       "      <td>0.045953</td>\n",
       "    </tr>\n",
       "    <tr>\n",
       "      <th>80</th>\n",
       "      <td>-0.659249</td>\n",
       "    </tr>\n",
       "  </tbody>\n",
       "</table>\n",
       "<p>81 rows × 1 columns</p>\n",
       "</div>"
      ],
      "text/plain": [
       "           X\n",
       "0   1.254092\n",
       "1   1.411886\n",
       "2   2.508739\n",
       "3  -0.624824\n",
       "4  -0.621181\n",
       "..       ...\n",
       "76 -1.391760\n",
       "77  0.314458\n",
       "78 -2.037051\n",
       "79  0.045953\n",
       "80 -0.659249\n",
       "\n",
       "[81 rows x 1 columns]"
      ]
     },
     "execution_count": 52,
     "metadata": {},
     "output_type": "execute_result"
    }
   ],
   "source": [
    "X"
   ]
  },
  {
   "cell_type": "code",
   "execution_count": 53,
   "id": "44791aa7",
   "metadata": {},
   "outputs": [
    {
     "data": {
      "text/html": [
       "<div>\n",
       "<style scoped>\n",
       "    .dataframe tbody tr th:only-of-type {\n",
       "        vertical-align: middle;\n",
       "    }\n",
       "\n",
       "    .dataframe tbody tr th {\n",
       "        vertical-align: top;\n",
       "    }\n",
       "\n",
       "    .dataframe thead th {\n",
       "        text-align: right;\n",
       "    }\n",
       "</style>\n",
       "<table border=\"1\" class=\"dataframe\">\n",
       "  <thead>\n",
       "    <tr style=\"text-align: right;\">\n",
       "      <th></th>\n",
       "      <th>y</th>\n",
       "    </tr>\n",
       "  </thead>\n",
       "  <tbody>\n",
       "    <tr>\n",
       "      <th>0</th>\n",
       "      <td>13.819841</td>\n",
       "    </tr>\n",
       "    <tr>\n",
       "      <th>1</th>\n",
       "      <td>14.404896</td>\n",
       "    </tr>\n",
       "    <tr>\n",
       "      <th>2</th>\n",
       "      <td>22.863014</td>\n",
       "    </tr>\n",
       "    <tr>\n",
       "      <th>3</th>\n",
       "      <td>-3.582315</td>\n",
       "    </tr>\n",
       "    <tr>\n",
       "      <th>4</th>\n",
       "      <td>-9.779264</td>\n",
       "    </tr>\n",
       "    <tr>\n",
       "      <th>...</th>\n",
       "      <td>...</td>\n",
       "    </tr>\n",
       "    <tr>\n",
       "      <th>76</th>\n",
       "      <td>-15.627767</td>\n",
       "    </tr>\n",
       "    <tr>\n",
       "      <th>77</th>\n",
       "      <td>4.817917</td>\n",
       "    </tr>\n",
       "    <tr>\n",
       "      <th>78</th>\n",
       "      <td>-18.964390</td>\n",
       "    </tr>\n",
       "    <tr>\n",
       "      <th>79</th>\n",
       "      <td>0.426379</td>\n",
       "    </tr>\n",
       "    <tr>\n",
       "      <th>80</th>\n",
       "      <td>-6.108726</td>\n",
       "    </tr>\n",
       "  </tbody>\n",
       "</table>\n",
       "<p>81 rows × 1 columns</p>\n",
       "</div>"
      ],
      "text/plain": [
       "            y\n",
       "0   13.819841\n",
       "1   14.404896\n",
       "2   22.863014\n",
       "3   -3.582315\n",
       "4   -9.779264\n",
       "..        ...\n",
       "76 -15.627767\n",
       "77   4.817917\n",
       "78 -18.964390\n",
       "79   0.426379\n",
       "80  -6.108726\n",
       "\n",
       "[81 rows x 1 columns]"
      ]
     },
     "execution_count": 53,
     "metadata": {},
     "output_type": "execute_result"
    }
   ],
   "source": [
    "y"
   ]
  },
  {
   "cell_type": "markdown",
   "id": "c1781bab",
   "metadata": {},
   "source": [
    "## Model Training"
   ]
  },
  {
   "cell_type": "code",
   "execution_count": 54,
   "id": "a19d6609",
   "metadata": {},
   "outputs": [
    {
     "data": {
      "text/plain": [
       "LinearRegression()"
      ]
     },
     "execution_count": 54,
     "metadata": {},
     "output_type": "execute_result"
    }
   ],
   "source": [
    "from sklearn.linear_model import LinearRegression\n",
    "linear_model = LinearRegression() #Model Initialization\n",
    "linear_model.fit(X,y) #Training happens"
   ]
  },
  {
   "cell_type": "code",
   "execution_count": 55,
   "id": "b003577b",
   "metadata": {},
   "outputs": [
    {
     "data": {
      "text/plain": [
       "array([[9.9239994]])"
      ]
     },
     "execution_count": 55,
     "metadata": {},
     "output_type": "execute_result"
    }
   ],
   "source": [
    "linear_model.coef_"
   ]
  },
  {
   "cell_type": "code",
   "execution_count": 56,
   "id": "382c2617",
   "metadata": {},
   "outputs": [
    {
     "data": {
      "text/plain": [
       "array([0.19576905])"
      ]
     },
     "execution_count": 56,
     "metadata": {},
     "output_type": "execute_result"
    }
   ],
   "source": [
    "linear_model.intercept_"
   ]
  },
  {
   "cell_type": "markdown",
   "id": "daaf7e50",
   "metadata": {},
   "source": [
    "### Model Testing"
   ]
  },
  {
   "cell_type": "code",
   "execution_count": 58,
   "id": "6a0e208b",
   "metadata": {},
   "outputs": [],
   "source": [
    "y_pred = linear_model.predict(X)"
   ]
  },
  {
   "cell_type": "markdown",
   "id": "75a302f0",
   "metadata": {},
   "source": [
    "### Model Evaluation"
   ]
  },
  {
   "cell_type": "code",
   "execution_count": 59,
   "id": "e1ee6afe",
   "metadata": {},
   "outputs": [
    {
     "data": {
      "text/html": [
       "<div>\n",
       "<style scoped>\n",
       "    .dataframe tbody tr th:only-of-type {\n",
       "        vertical-align: middle;\n",
       "    }\n",
       "\n",
       "    .dataframe tbody tr th {\n",
       "        vertical-align: top;\n",
       "    }\n",
       "\n",
       "    .dataframe thead th {\n",
       "        text-align: right;\n",
       "    }\n",
       "</style>\n",
       "<table border=\"1\" class=\"dataframe\">\n",
       "  <thead>\n",
       "    <tr style=\"text-align: right;\">\n",
       "      <th></th>\n",
       "      <th>y</th>\n",
       "    </tr>\n",
       "  </thead>\n",
       "  <tbody>\n",
       "    <tr>\n",
       "      <th>0</th>\n",
       "      <td>13.819841</td>\n",
       "    </tr>\n",
       "    <tr>\n",
       "      <th>1</th>\n",
       "      <td>14.404896</td>\n",
       "    </tr>\n",
       "    <tr>\n",
       "      <th>2</th>\n",
       "      <td>22.863014</td>\n",
       "    </tr>\n",
       "    <tr>\n",
       "      <th>3</th>\n",
       "      <td>-3.582315</td>\n",
       "    </tr>\n",
       "    <tr>\n",
       "      <th>4</th>\n",
       "      <td>-9.779264</td>\n",
       "    </tr>\n",
       "    <tr>\n",
       "      <th>...</th>\n",
       "      <td>...</td>\n",
       "    </tr>\n",
       "    <tr>\n",
       "      <th>76</th>\n",
       "      <td>-15.627767</td>\n",
       "    </tr>\n",
       "    <tr>\n",
       "      <th>77</th>\n",
       "      <td>4.817917</td>\n",
       "    </tr>\n",
       "    <tr>\n",
       "      <th>78</th>\n",
       "      <td>-18.964390</td>\n",
       "    </tr>\n",
       "    <tr>\n",
       "      <th>79</th>\n",
       "      <td>0.426379</td>\n",
       "    </tr>\n",
       "    <tr>\n",
       "      <th>80</th>\n",
       "      <td>-6.108726</td>\n",
       "    </tr>\n",
       "  </tbody>\n",
       "</table>\n",
       "<p>81 rows × 1 columns</p>\n",
       "</div>"
      ],
      "text/plain": [
       "            y\n",
       "0   13.819841\n",
       "1   14.404896\n",
       "2   22.863014\n",
       "3   -3.582315\n",
       "4   -9.779264\n",
       "..        ...\n",
       "76 -15.627767\n",
       "77   4.817917\n",
       "78 -18.964390\n",
       "79   0.426379\n",
       "80  -6.108726\n",
       "\n",
       "[81 rows x 1 columns]"
      ]
     },
     "execution_count": 59,
     "metadata": {},
     "output_type": "execute_result"
    }
   ],
   "source": [
    "y"
   ]
  },
  {
   "cell_type": "code",
   "execution_count": 60,
   "id": "c9caf083",
   "metadata": {},
   "outputs": [
    {
     "data": {
      "text/plain": [
       "array([[ 12.64137846],\n",
       "       [ 14.20732643],\n",
       "       [ 25.09249109],\n",
       "       [ -6.00498646],\n",
       "       [ -5.96883452],\n",
       "       [-17.55710757],\n",
       "       [ -6.8787927 ],\n",
       "       [ -7.31175829],\n",
       "       [  3.99137782],\n",
       "       [ 12.6751647 ],\n",
       "       [-10.68653345],\n",
       "       [ -3.12376639],\n",
       "       [-12.13700627],\n",
       "       [-16.20680704],\n",
       "       [ -0.7830735 ],\n",
       "       [  9.98943119],\n",
       "       [-17.81178678],\n",
       "       [ -3.45187145],\n",
       "       [  6.47945886],\n",
       "       [  7.41674047],\n",
       "       [  4.14305571],\n",
       "       [ -0.57402202],\n",
       "       [  6.03697858],\n",
       "       [ -1.21255838],\n",
       "       [ -4.74508323],\n",
       "       [ -4.62023853],\n",
       "       [-26.82503893],\n",
       "       [  9.72828706],\n",
       "       [  9.33808682],\n",
       "       [  3.96564337],\n",
       "       [  2.19983108],\n",
       "       [ -1.71495419],\n",
       "       [ 14.73982909],\n",
       "       [-13.84322284],\n",
       "       [-11.1198627 ],\n",
       "       [ 12.6889536 ],\n",
       "       [  8.18678736],\n",
       "       [ -5.54065585],\n",
       "       [  6.91706207],\n",
       "       [ -3.89481886],\n",
       "       [-14.94580543],\n",
       "       [  9.27135123],\n",
       "       [  6.44462583],\n",
       "       [  6.43734033],\n",
       "       [  7.39386655],\n",
       "       [ -0.0746129 ],\n",
       "       [-11.18500272],\n",
       "       [ -8.91386474],\n",
       "       [-17.99410478],\n",
       "       [-14.16884617],\n",
       "       [  0.34758853],\n",
       "       [ 16.59069486],\n",
       "       [ -2.14244559],\n",
       "       [  2.26305796],\n",
       "       [  1.62197281],\n",
       "       [ 24.73817841],\n",
       "       [  2.57975112],\n",
       "       [-14.1462029 ],\n",
       "       [  3.82303353],\n",
       "       [  7.90246324],\n",
       "       [ 17.49551708],\n",
       "       [  7.0966596 ],\n",
       "       [ 16.07250883],\n",
       "       [  1.35523193],\n",
       "       [ -0.68730213],\n",
       "       [ -1.79017176],\n",
       "       [  9.01198096],\n",
       "       [ 10.0942803 ],\n",
       "       [ -6.01419422],\n",
       "       [  4.24888791],\n",
       "       [ -2.38806822],\n",
       "       [  9.17002217],\n",
       "       [ 18.58526342],\n",
       "       [ -9.77414485],\n",
       "       [  8.74618433],\n",
       "       [-12.54273313],\n",
       "       [-13.61605508],\n",
       "       [  3.31644649],\n",
       "       [-20.019925  ],\n",
       "       [  0.65180907],\n",
       "       [ -6.34661738]])"
      ]
     },
     "execution_count": 60,
     "metadata": {},
     "output_type": "execute_result"
    }
   ],
   "source": [
    "y_pred"
   ]
  },
  {
   "cell_type": "code",
   "execution_count": 61,
   "id": "d54fa847",
   "metadata": {},
   "outputs": [
    {
     "data": {
      "text/html": [
       "<div>\n",
       "<style scoped>\n",
       "    .dataframe tbody tr th:only-of-type {\n",
       "        vertical-align: middle;\n",
       "    }\n",
       "\n",
       "    .dataframe tbody tr th {\n",
       "        vertical-align: top;\n",
       "    }\n",
       "\n",
       "    .dataframe thead th {\n",
       "        text-align: right;\n",
       "    }\n",
       "</style>\n",
       "<table border=\"1\" class=\"dataframe\">\n",
       "  <thead>\n",
       "    <tr style=\"text-align: right;\">\n",
       "      <th></th>\n",
       "      <th>y</th>\n",
       "    </tr>\n",
       "  </thead>\n",
       "  <tbody>\n",
       "    <tr>\n",
       "      <th>0</th>\n",
       "      <td>1.178463</td>\n",
       "    </tr>\n",
       "    <tr>\n",
       "      <th>1</th>\n",
       "      <td>0.197570</td>\n",
       "    </tr>\n",
       "    <tr>\n",
       "      <th>2</th>\n",
       "      <td>-2.229477</td>\n",
       "    </tr>\n",
       "    <tr>\n",
       "      <th>3</th>\n",
       "      <td>2.422671</td>\n",
       "    </tr>\n",
       "    <tr>\n",
       "      <th>4</th>\n",
       "      <td>-3.810430</td>\n",
       "    </tr>\n",
       "    <tr>\n",
       "      <th>...</th>\n",
       "      <td>...</td>\n",
       "    </tr>\n",
       "    <tr>\n",
       "      <th>76</th>\n",
       "      <td>-2.011712</td>\n",
       "    </tr>\n",
       "    <tr>\n",
       "      <th>77</th>\n",
       "      <td>1.501470</td>\n",
       "    </tr>\n",
       "    <tr>\n",
       "      <th>78</th>\n",
       "      <td>1.055535</td>\n",
       "    </tr>\n",
       "    <tr>\n",
       "      <th>79</th>\n",
       "      <td>-0.225430</td>\n",
       "    </tr>\n",
       "    <tr>\n",
       "      <th>80</th>\n",
       "      <td>0.237891</td>\n",
       "    </tr>\n",
       "  </tbody>\n",
       "</table>\n",
       "<p>81 rows × 1 columns</p>\n",
       "</div>"
      ],
      "text/plain": [
       "           y\n",
       "0   1.178463\n",
       "1   0.197570\n",
       "2  -2.229477\n",
       "3   2.422671\n",
       "4  -3.810430\n",
       "..       ...\n",
       "76 -2.011712\n",
       "77  1.501470\n",
       "78  1.055535\n",
       "79 -0.225430\n",
       "80  0.237891\n",
       "\n",
       "[81 rows x 1 columns]"
      ]
     },
     "execution_count": 61,
     "metadata": {},
     "output_type": "execute_result"
    }
   ],
   "source": [
    "error = y - y_pred\n",
    "error"
   ]
  },
  {
   "cell_type": "markdown",
   "id": "9664b8bd",
   "metadata": {},
   "source": [
    "### Now, we can check for Homoscadasicity and Zero Residual Mean"
   ]
  },
  {
   "cell_type": "markdown",
   "id": "132040ab",
   "metadata": {},
   "source": [
    "### 5. Homoscedasticity"
   ]
  },
  {
   "cell_type": "code",
   "execution_count": 63,
   "id": "83eee945",
   "metadata": {},
   "outputs": [
    {
     "data": {
      "image/png": "[encoded data removed]",
      "text/plain": [
       "<Figure size 432x288 with 1 Axes>"
      ]
     },
     "metadata": {
      "needs_background": "light"
     },
     "output_type": "display_data"
    }
   ],
   "source": [
    "plt.scatter(x = demo_data['X'],y = error)\n",
    "plt.title('Homoscedasticity - X vs Error')\n",
    "plt.xlabel('X')\n",
    "plt.ylabel('Error')\n",
    "plt.show()"
   ]
  },
  {
   "cell_type": "markdown",
   "id": "1fa74345",
   "metadata": {},
   "source": [
    "### TAKEAWAY : The density of points above and below line must be similar."
   ]
  },
  {
   "cell_type": "markdown",
   "id": "015e2aa0",
   "metadata": {},
   "source": [
    "### 6. Test for Zero Residual Mean "
   ]
  },
  {
   "cell_type": "code",
   "execution_count": 65,
   "id": "c67853b4",
   "metadata": {},
   "outputs": [
    {
     "data": {
      "image/png": "[encoded data removed]",
      "text/plain": [
       "<Figure size 432x288 with 1 Axes>"
      ]
     },
     "metadata": {
      "needs_background": "light"
     },
     "output_type": "display_data"
    }
   ],
   "source": [
    "plt.scatter(x = demo_data['y'], y =y_pred )\n",
    "plt.title('Zero Residual Mean - Actual O/p Vs Predicted O/p')\n",
    "plt.xlabel('Actual Output')\n",
    "plt.ylabel('Predicted Output')\n",
    "plt.show()"
   ]
  },
  {
   "cell_type": "code",
   "execution_count": 67,
   "id": "7e9aa319",
   "metadata": {},
   "outputs": [
    {
     "data": {
      "text/plain": [
       "y   -1.679041e-16\n",
       "dtype: float64"
      ]
     },
     "execution_count": 67,
     "metadata": {},
     "output_type": "execute_result"
    }
   ],
   "source": [
    "error.mean() #Error is Zero"
   ]
  },
  {
   "cell_type": "markdown",
   "id": "0daeeef9",
   "metadata": {},
   "source": [
    "### ========================================================================================="
   ]
  },
  {
   "cell_type": "markdown",
   "id": "a97e3e31",
   "metadata": {},
   "source": [
    "### For Cars Data - Assumption Check"
   ]
  },
  {
   "cell_type": "markdown",
   "id": "bb7a11fe",
   "metadata": {},
   "source": [
    "### 2. Test for Normality"
   ]
  },
  {
   "cell_type": "markdown",
   "id": "e3e8ad27",
   "metadata": {},
   "source": [
    "#### 2.1 Using distplot"
   ]
  },
  {
   "cell_type": "code",
   "execution_count": 69,
   "id": "a8582274",
   "metadata": {},
   "outputs": [
    {
     "data": {
      "image/png": "[encoded data removed]",
      "text/plain": [
       "<Figure size 432x288 with 1 Axes>"
      ]
     },
     "metadata": {
      "needs_background": "light"
     },
     "output_type": "display_data"
    }
   ],
   "source": [
    "sns.distplot(a=cars_data['HP'],hist=False)\n",
    "plt.show()"
   ]
  },
  {
   "cell_type": "code",
   "execution_count": 70,
   "id": "01047dd5",
   "metadata": {},
   "outputs": [
    {
     "data": {
      "image/png": "[encoded data removed]",
      "text/plain": [
       "<Figure size 432x288 with 1 Axes>"
      ]
     },
     "metadata": {
      "needs_background": "light"
     },
     "output_type": "display_data"
    }
   ],
   "source": [
    "sns.distplot(a=cars_data['VOL'],hist=False)\n",
    "plt.show()"
   ]
  },
  {
   "cell_type": "code",
   "execution_count": 71,
   "id": "f8202138",
   "metadata": {},
   "outputs": [
    {
     "data": {
      "image/png": "[encoded data removed]",
      "text/plain": [
       "<Figure size 432x288 with 1 Axes>"
      ]
     },
     "metadata": {
      "needs_background": "light"
     },
     "output_type": "display_data"
    }
   ],
   "source": [
    "sns.distplot(a=cars_data['SP'],hist=False)\n",
    "plt.show()"
   ]
  },
  {
   "cell_type": "code",
   "execution_count": 72,
   "id": "7c08df53",
   "metadata": {},
   "outputs": [
    {
     "data": {
      "image/png": "[encoded data removed]",
      "text/plain": [
       "<Figure size 432x288 with 1 Axes>"
      ]
     },
     "metadata": {
      "needs_background": "light"
     },
     "output_type": "display_data"
    }
   ],
   "source": [
    "sns.distplot(a=cars_data['WT'],hist=False)\n",
    "plt.show()"
   ]
  },
  {
   "cell_type": "markdown",
   "id": "f67d7af1",
   "metadata": {},
   "source": [
    "### Observation:\n",
    "\n",
    "Normality Test fails."
   ]
  },
  {
   "cell_type": "markdown",
   "id": "3b20c298",
   "metadata": {},
   "source": [
    "#### 2.1 Using probplot"
   ]
  },
  {
   "cell_type": "code",
   "execution_count": 73,
   "id": "a56ab790",
   "metadata": {},
   "outputs": [
    {
     "data": {
      "image/png": "[encoded data removed]",
      "text/plain": [
       "<Figure size 432x288 with 1 Axes>"
      ]
     },
     "metadata": {
      "needs_background": "light"
     },
     "output_type": "display_data"
    }
   ],
   "source": [
    "stats.probplot(x = cars_data['HP'],dist='norm',plot=plt)\n",
    "plt.show()"
   ]
  },
  {
   "cell_type": "code",
   "execution_count": 74,
   "id": "fb94111e",
   "metadata": {},
   "outputs": [
    {
     "data": {
      "image/png": "[encoded data removed]",
      "text/plain": [
       "<Figure size 432x288 with 1 Axes>"
      ]
     },
     "metadata": {
      "needs_background": "light"
     },
     "output_type": "display_data"
    }
   ],
   "source": [
    "stats.probplot(x = cars_data['VOL'],dist='norm',plot=plt)\n",
    "plt.show()"
   ]
  },
  {
   "cell_type": "code",
   "execution_count": 75,
   "id": "7e856159",
   "metadata": {},
   "outputs": [
    {
     "data": {
      "image/png": "[encoded data removed]",
      "text/plain": [
       "<Figure size 432x288 with 1 Axes>"
      ]
     },
     "metadata": {
      "needs_background": "light"
     },
     "output_type": "display_data"
    }
   ],
   "source": [
    "stats.probplot(x = cars_data['WT'],dist='norm',plot=plt)\n",
    "plt.show()"
   ]
  },
  {
   "cell_type": "code",
   "execution_count": 76,
   "id": "34c53931",
   "metadata": {},
   "outputs": [
    {
     "data": {
      "image/png": "[encoded data removed]",
      "text/plain": [
       "<Figure size 432x288 with 1 Axes>"
      ]
     },
     "metadata": {
      "needs_background": "light"
     },
     "output_type": "display_data"
    }
   ],
   "source": [
    "stats.probplot(x = cars_data['SP'],dist='norm',plot=plt)\n",
    "plt.show()"
   ]
  },
  {
   "cell_type": "markdown",
   "id": "d1478ce2",
   "metadata": {},
   "source": [
    "### Observation:\n",
    "\n",
    "Normality Test fails."
   ]
  },
  {
   "cell_type": "markdown",
   "id": "00a84d36",
   "metadata": {},
   "source": [
    "### 3. Test for Multicollinearity\n",
    "\n",
    "By using 2 techniques,\n",
    "\n",
    "**1. Correlation Matrix**\n",
    "\n",
    "**2. Variance Inflation Factor(VIF)**"
   ]
  },
  {
   "cell_type": "markdown",
   "id": "ee06abe1",
   "metadata": {},
   "source": [
    "#### 3.1 Correlation Matrix"
   ]
  },
  {
   "cell_type": "code",
   "execution_count": 79,
   "id": "6cc5bfd5",
   "metadata": {},
   "outputs": [
    {
     "data": {
      "text/html": [
       "<div>\n",
       "<style scoped>\n",
       "    .dataframe tbody tr th:only-of-type {\n",
       "        vertical-align: middle;\n",
       "    }\n",
       "\n",
       "    .dataframe tbody tr th {\n",
       "        vertical-align: top;\n",
       "    }\n",
       "\n",
       "    .dataframe thead th {\n",
       "        text-align: right;\n",
       "    }\n",
       "</style>\n",
       "<table border=\"1\" class=\"dataframe\">\n",
       "  <thead>\n",
       "    <tr style=\"text-align: right;\">\n",
       "      <th></th>\n",
       "      <th>HP</th>\n",
       "      <th>MPG</th>\n",
       "      <th>VOL</th>\n",
       "      <th>SP</th>\n",
       "      <th>WT</th>\n",
       "    </tr>\n",
       "  </thead>\n",
       "  <tbody>\n",
       "    <tr>\n",
       "      <th>HP</th>\n",
       "      <td>1.00</td>\n",
       "      <td>-0.73</td>\n",
       "      <td>0.08</td>\n",
       "      <td>0.97</td>\n",
       "      <td>0.08</td>\n",
       "    </tr>\n",
       "    <tr>\n",
       "      <th>MPG</th>\n",
       "      <td>-0.73</td>\n",
       "      <td>1.00</td>\n",
       "      <td>-0.53</td>\n",
       "      <td>-0.69</td>\n",
       "      <td>-0.53</td>\n",
       "    </tr>\n",
       "    <tr>\n",
       "      <th>VOL</th>\n",
       "      <td>0.08</td>\n",
       "      <td>-0.53</td>\n",
       "      <td>1.00</td>\n",
       "      <td>0.10</td>\n",
       "      <td>1.00</td>\n",
       "    </tr>\n",
       "    <tr>\n",
       "      <th>SP</th>\n",
       "      <td>0.97</td>\n",
       "      <td>-0.69</td>\n",
       "      <td>0.10</td>\n",
       "      <td>1.00</td>\n",
       "      <td>0.10</td>\n",
       "    </tr>\n",
       "    <tr>\n",
       "      <th>WT</th>\n",
       "      <td>0.08</td>\n",
       "      <td>-0.53</td>\n",
       "      <td>1.00</td>\n",
       "      <td>0.10</td>\n",
       "      <td>1.00</td>\n",
       "    </tr>\n",
       "  </tbody>\n",
       "</table>\n",
       "</div>"
      ],
      "text/plain": [
       "       HP   MPG   VOL    SP    WT\n",
       "HP   1.00 -0.73  0.08  0.97  0.08\n",
       "MPG -0.73  1.00 -0.53 -0.69 -0.53\n",
       "VOL  0.08 -0.53  1.00  0.10  1.00\n",
       "SP   0.97 -0.69  0.10  1.00  0.10\n",
       "WT   0.08 -0.53  1.00  0.10  1.00"
      ]
     },
     "execution_count": 79,
     "metadata": {},
     "output_type": "execute_result"
    }
   ],
   "source": [
    "corr_matrix = cars_data.corr().round(2)\n",
    "corr_matrix"
   ]
  },
  {
   "cell_type": "code",
   "execution_count": 82,
   "id": "234c81de",
   "metadata": {},
   "outputs": [
    {
     "data": {
      "image/png": "[encoded data removed]",
      "text/plain": [
       "<Figure size 432x288 with 2 Axes>"
      ]
     },
     "metadata": {
      "needs_background": "light"
     },
     "output_type": "display_data"
    }
   ],
   "source": [
    "sns.heatmap(data = corr_matrix,annot=True)\n",
    "plt.show()"
   ]
  },
  {
   "cell_type": "markdown",
   "id": "6f4165e3",
   "metadata": {},
   "source": [
    "### Observation:\n",
    "\n",
    "There is multicollinearity in my data. So this Test also fails."
   ]
  },
  {
   "cell_type": "markdown",
   "id": "18296e09",
   "metadata": {},
   "source": [
    "### 4. No AutoRegression - Passed."
   ]
  },
  {
   "cell_type": "markdown",
   "id": "1370b506",
   "metadata": {},
   "source": [
    "### Model Building"
   ]
  },
  {
   "cell_type": "code",
   "execution_count": 83,
   "id": "d679fb9e",
   "metadata": {},
   "outputs": [],
   "source": [
    "X = cars_data.drop(labels=['MPG'],axis = 1)\n",
    "y = cars_data[['MPG']]"
   ]
  },
  {
   "cell_type": "code",
   "execution_count": 84,
   "id": "de506dff",
   "metadata": {},
   "outputs": [
    {
     "data": {
      "text/html": [
       "<div>\n",
       "<style scoped>\n",
       "    .dataframe tbody tr th:only-of-type {\n",
       "        vertical-align: middle;\n",
       "    }\n",
       "\n",
       "    .dataframe tbody tr th {\n",
       "        vertical-align: top;\n",
       "    }\n",
       "\n",
       "    .dataframe thead th {\n",
       "        text-align: right;\n",
       "    }\n",
       "</style>\n",
       "<table border=\"1\" class=\"dataframe\">\n",
       "  <thead>\n",
       "    <tr style=\"text-align: right;\">\n",
       "      <th></th>\n",
       "      <th>HP</th>\n",
       "      <th>VOL</th>\n",
       "      <th>SP</th>\n",
       "      <th>WT</th>\n",
       "    </tr>\n",
       "  </thead>\n",
       "  <tbody>\n",
       "    <tr>\n",
       "      <th>0</th>\n",
       "      <td>49</td>\n",
       "      <td>89</td>\n",
       "      <td>104.185353</td>\n",
       "      <td>28.762059</td>\n",
       "    </tr>\n",
       "    <tr>\n",
       "      <th>1</th>\n",
       "      <td>55</td>\n",
       "      <td>92</td>\n",
       "      <td>105.461264</td>\n",
       "      <td>30.466833</td>\n",
       "    </tr>\n",
       "    <tr>\n",
       "      <th>2</th>\n",
       "      <td>55</td>\n",
       "      <td>92</td>\n",
       "      <td>105.461264</td>\n",
       "      <td>30.193597</td>\n",
       "    </tr>\n",
       "    <tr>\n",
       "      <th>3</th>\n",
       "      <td>70</td>\n",
       "      <td>92</td>\n",
       "      <td>113.461264</td>\n",
       "      <td>30.632114</td>\n",
       "    </tr>\n",
       "    <tr>\n",
       "      <th>4</th>\n",
       "      <td>53</td>\n",
       "      <td>92</td>\n",
       "      <td>104.461264</td>\n",
       "      <td>29.889149</td>\n",
       "    </tr>\n",
       "    <tr>\n",
       "      <th>...</th>\n",
       "      <td>...</td>\n",
       "      <td>...</td>\n",
       "      <td>...</td>\n",
       "      <td>...</td>\n",
       "    </tr>\n",
       "    <tr>\n",
       "      <th>76</th>\n",
       "      <td>322</td>\n",
       "      <td>50</td>\n",
       "      <td>169.598513</td>\n",
       "      <td>16.132947</td>\n",
       "    </tr>\n",
       "    <tr>\n",
       "      <th>77</th>\n",
       "      <td>238</td>\n",
       "      <td>115</td>\n",
       "      <td>150.576579</td>\n",
       "      <td>37.923113</td>\n",
       "    </tr>\n",
       "    <tr>\n",
       "      <th>78</th>\n",
       "      <td>263</td>\n",
       "      <td>50</td>\n",
       "      <td>151.598513</td>\n",
       "      <td>15.769625</td>\n",
       "    </tr>\n",
       "    <tr>\n",
       "      <th>79</th>\n",
       "      <td>295</td>\n",
       "      <td>119</td>\n",
       "      <td>167.944460</td>\n",
       "      <td>39.423099</td>\n",
       "    </tr>\n",
       "    <tr>\n",
       "      <th>80</th>\n",
       "      <td>236</td>\n",
       "      <td>107</td>\n",
       "      <td>139.840817</td>\n",
       "      <td>34.948615</td>\n",
       "    </tr>\n",
       "  </tbody>\n",
       "</table>\n",
       "<p>81 rows × 4 columns</p>\n",
       "</div>"
      ],
      "text/plain": [
       "     HP  VOL          SP         WT\n",
       "0    49   89  104.185353  28.762059\n",
       "1    55   92  105.461264  30.466833\n",
       "2    55   92  105.461264  30.193597\n",
       "3    70   92  113.461264  30.632114\n",
       "4    53   92  104.461264  29.889149\n",
       "..  ...  ...         ...        ...\n",
       "76  322   50  169.598513  16.132947\n",
       "77  238  115  150.576579  37.923113\n",
       "78  263   50  151.598513  15.769625\n",
       "79  295  119  167.944460  39.423099\n",
       "80  236  107  139.840817  34.948615\n",
       "\n",
       "[81 rows x 4 columns]"
      ]
     },
     "execution_count": 84,
     "metadata": {},
     "output_type": "execute_result"
    }
   ],
   "source": [
    "X"
   ]
  },
  {
   "cell_type": "code",
   "execution_count": 85,
   "id": "9e7beaa6",
   "metadata": {},
   "outputs": [
    {
     "data": {
      "text/html": [
       "<div>\n",
       "<style scoped>\n",
       "    .dataframe tbody tr th:only-of-type {\n",
       "        vertical-align: middle;\n",
       "    }\n",
       "\n",
       "    .dataframe tbody tr th {\n",
       "        vertical-align: top;\n",
       "    }\n",
       "\n",
       "    .dataframe thead th {\n",
       "        text-align: right;\n",
       "    }\n",
       "</style>\n",
       "<table border=\"1\" class=\"dataframe\">\n",
       "  <thead>\n",
       "    <tr style=\"text-align: right;\">\n",
       "      <th></th>\n",
       "      <th>MPG</th>\n",
       "    </tr>\n",
       "  </thead>\n",
       "  <tbody>\n",
       "    <tr>\n",
       "      <th>0</th>\n",
       "      <td>53.700681</td>\n",
       "    </tr>\n",
       "    <tr>\n",
       "      <th>1</th>\n",
       "      <td>50.013401</td>\n",
       "    </tr>\n",
       "    <tr>\n",
       "      <th>2</th>\n",
       "      <td>50.013401</td>\n",
       "    </tr>\n",
       "    <tr>\n",
       "      <th>3</th>\n",
       "      <td>45.696322</td>\n",
       "    </tr>\n",
       "    <tr>\n",
       "      <th>4</th>\n",
       "      <td>50.504232</td>\n",
       "    </tr>\n",
       "    <tr>\n",
       "      <th>...</th>\n",
       "      <td>...</td>\n",
       "    </tr>\n",
       "    <tr>\n",
       "      <th>76</th>\n",
       "      <td>36.900000</td>\n",
       "    </tr>\n",
       "    <tr>\n",
       "      <th>77</th>\n",
       "      <td>19.197888</td>\n",
       "    </tr>\n",
       "    <tr>\n",
       "      <th>78</th>\n",
       "      <td>34.000000</td>\n",
       "    </tr>\n",
       "    <tr>\n",
       "      <th>79</th>\n",
       "      <td>19.833733</td>\n",
       "    </tr>\n",
       "    <tr>\n",
       "      <th>80</th>\n",
       "      <td>12.101263</td>\n",
       "    </tr>\n",
       "  </tbody>\n",
       "</table>\n",
       "<p>81 rows × 1 columns</p>\n",
       "</div>"
      ],
      "text/plain": [
       "          MPG\n",
       "0   53.700681\n",
       "1   50.013401\n",
       "2   50.013401\n",
       "3   45.696322\n",
       "4   50.504232\n",
       "..        ...\n",
       "76  36.900000\n",
       "77  19.197888\n",
       "78  34.000000\n",
       "79  19.833733\n",
       "80  12.101263\n",
       "\n",
       "[81 rows x 1 columns]"
      ]
     },
     "execution_count": 85,
     "metadata": {},
     "output_type": "execute_result"
    }
   ],
   "source": [
    "y"
   ]
  },
  {
   "cell_type": "code",
   "execution_count": 86,
   "id": "76c32605",
   "metadata": {},
   "outputs": [
    {
     "data": {
      "text/plain": [
       "HP     117.469136\n",
       "VOL     98.765432\n",
       "SP     121.540272\n",
       "WT      32.412577\n",
       "dtype: float64"
      ]
     },
     "execution_count": 86,
     "metadata": {},
     "output_type": "execute_result"
    }
   ],
   "source": [
    "X.mean()"
   ]
  },
  {
   "cell_type": "code",
   "execution_count": 87,
   "id": "7c257b0d",
   "metadata": {},
   "outputs": [
    {
     "data": {
      "text/plain": [
       "HP     57.113502\n",
       "VOL    22.301497\n",
       "SP     14.181432\n",
       "WT      7.492813\n",
       "dtype: float64"
      ]
     },
     "execution_count": 87,
     "metadata": {},
     "output_type": "execute_result"
    }
   ],
   "source": [
    "X.std()"
   ]
  },
  {
   "cell_type": "code",
   "execution_count": 91,
   "id": "38551d4e",
   "metadata": {},
   "outputs": [
    {
     "data": {
      "text/plain": [
       "array([[-1.20629511, -0.44061061, -1.23140253, -0.49023816],\n",
       "       [-1.1005866 , -0.30525236, -1.14087145, -0.26129934],\n",
       "       [-1.1005866 , -0.30525236, -1.14087145, -0.29799301],\n",
       "       [-0.83631531, -0.30525236, -0.57323872, -0.2391033 ],\n",
       "       [-1.13582277, -0.30525236, -1.21182554, -0.33887816],\n",
       "       [-0.83631531, -0.44061061, -0.59281571, -0.37881419],\n",
       "       [-1.1005866 , -0.30525236, -1.14087145, -0.28256505],\n",
       "       [-0.97726   , -2.20026792, -1.34399532, -2.22453536],\n",
       "       [-0.97726   , -2.20026792, -1.34399532, -2.15581433],\n",
       "       [-0.66013445, -0.21501352, -0.4182792 , -0.20042158],\n",
       "       [-0.78346105, -0.44061061, -0.73472389, -0.40949027],\n",
       "       [-0.44871742, -2.20026792, -0.27968395, -2.23718888],\n",
       "       [-0.44871742,  0.01058357,  0.04007367,  0.05385348],\n",
       "       [-0.78346105, -0.44061061, -0.73472389, -0.40746314],\n",
       "       [-0.90678765, -0.44061061, -0.94758617, -0.41164734],\n",
       "       [-0.78346105, -0.44061061, -0.73472389, -0.37710085],\n",
       "       [-0.69537062, -0.35037178, -0.50881029, -0.38633253],\n",
       "       [-0.44871742, -2.20026792, -0.27968395, -2.17802125],\n",
       "       [-0.69537062, -0.35037178, -0.50881029, -0.33347355],\n",
       "       [-0.48395359,  0.19106124, -0.21764002,  0.14831256],\n",
       "       [-0.44871742,  0.01058357, -0.1727886 , -0.01180799],\n",
       "       [-0.76584297,  0.37153891, -0.75917009,  0.33514564],\n",
       "       [-0.39586316,  0.1008224 , -0.08878318,  0.03535268],\n",
       "       [-0.64251637, -0.12477469, -0.54713605, -0.07727938],\n",
       "       [-0.39586316, -0.44061061, -0.16709116, -0.48759676],\n",
       "       [-0.44871742, -2.20026792, -0.49254623, -2.19829229],\n",
       "       [-0.44871742,  0.82273309, -0.05532661,  0.75878723],\n",
       "       [-0.44871742,  0.01058357, -0.1727886 ,  0.05673768],\n",
       "       [-1.15344086,  0.23618066, -1.55924209,  0.27807071],\n",
       "       [-0.25491848,  0.37153891,  0.02132491,  0.42124726],\n",
       "       [-0.58966211,  0.68737484, -0.57158225,  0.62174504],\n",
       "       [-0.58966211,  0.1008224 , -0.65641591,  0.11035971],\n",
       "       [-0.27253656, -0.07965527, -0.11488584, -0.13866213],\n",
       "       [-0.27253656,  0.64225542, -0.01047519,  0.69304639],\n",
       "       [-0.64251637,  0.1008224 , -0.72737   ,  0.03881962],\n",
       "       [-0.48395359, -0.03453585, -0.46313063, -0.06732815],\n",
       "       [-0.48395359, -0.48573003, -0.52838729, -0.49132041],\n",
       "       [-0.27253656, -0.57596887, -0.32857635, -0.60870364],\n",
       "       [-0.27253656, -0.57596887, -0.32857635, -0.50790524],\n",
       "       [ 0.22076984, -0.30525236,  0.49107265, -0.30848967],\n",
       "       [-0.39586316,  0.64225542, -0.36524564,  0.66877093],\n",
       "       [-0.39586316,  0.32641949, -0.4109253 ,  0.35112169],\n",
       "       [-0.27253656, -0.30525236, -0.28942235, -0.253162  ],\n",
       "       [-0.39586316, -0.48573003, -0.52838729, -0.54638368],\n",
       "       [-0.43109934,  0.14594182, -0.50798206,  0.08944633],\n",
       "       [-0.30777273,  0.01058357, -0.31469678,  0.02811271],\n",
       "       [-0.30777273,  0.55201658, -0.23638879,  0.54872568],\n",
       "       [-0.34300891,  0.19106124, -0.35954821,  0.20110061],\n",
       "       [ 0.22076984, -0.57596887,  0.45191866, -0.58309656],\n",
       "       [-0.04350145,  0.1008224 , -0.23069136,  0.14045608],\n",
       "       [-0.04350145,  0.1008224 , -0.23069136,  0.10761914],\n",
       "       [-0.04350145,  0.1008224 , -0.23069136,  0.13753382],\n",
       "       [-0.04350145,  1.13856902, -0.08060104,  1.07240653],\n",
       "       [ 1.10167413,  0.64225542,  1.55051482,  0.69941256],\n",
       "       [ 0.74931242,  0.64225542,  0.98288209,  0.65022074],\n",
       "       [ 0.22076984,  1.13856902,  0.3451235 ,  1.09804367],\n",
       "       [-0.37824508, -0.30525236, -0.78610099, -0.30417763],\n",
       "       [-0.04350145,  0.1008224 , -0.23069136,  0.04323438],\n",
       "       [-0.30777273, -0.21501352, -0.63114147, -0.24136353],\n",
       "       [-0.30777273,  0.73249426, -0.4231484 ,  0.70507688],\n",
       "       [ 0.48504113,  0.55201658,  0.6150603 ,  0.60103751],\n",
       "       [ 0.04458898,  0.77761368, -0.27471455,  0.73160477],\n",
       "       [ 0.3969507 ,  1.45440495,  0.31984907,  1.47432127],\n",
       "       [ 0.3969507 ,  1.0934496 ,  0.26764375,  1.11600704],\n",
       "       [ 0.57313156,  1.00321077,  0.46745469,  1.0403533 ],\n",
       "       [ 0.83740285, -2.20026792,  0.35890287, -2.24265139],\n",
       "       [ 0.83740285,  0.68737484,  0.77654549,  0.74765875],\n",
       "       [ 0.83740285,  1.27392727,  0.86137914,  1.23030947],\n",
       "       [ 0.83740285,  1.0934496 ,  0.83527648,  1.08232792],\n",
       "       [ 2.24684972,  0.597136  ,  2.60830053,  0.63509149],\n",
       "       [ 2.86348272, -2.20026792,  3.05515833, -2.22785207],\n",
       "       [ 0.78454859,  1.63488262,  0.84263038,  1.55787152],\n",
       "       [ 0.78454859,  1.49952437,  0.82305338,  1.4692362 ],\n",
       "       [ 0.3969507 ,  2.76286807,  0.22527702,  2.76444017],\n",
       "       [ 0.3969507 ,  1.36416611,  0.02298138,  1.3706083 ],\n",
       "       [ 1.01358371,  1.36416611,  0.80347638,  1.39203071],\n",
       "       [ 3.60344233, -2.20026792,  3.40992879, -2.18623649],\n",
       "       [ 2.12352311,  0.73249426,  2.06024479,  0.74002517],\n",
       "       [ 2.56397526, -2.20026792,  2.13275515, -2.23502801],\n",
       "       [ 3.12775401,  0.91297193,  3.292567  ,  0.94146241],\n",
       "       [ 2.08828694,  0.37153891,  1.29849856,  0.34057153]])"
      ]
     },
     "execution_count": 91,
     "metadata": {},
     "output_type": "execute_result"
    }
   ],
   "source": [
    "from sklearn.preprocessing import StandardScaler\n",
    "std_scaler = StandardScaler()\n",
    "scaled_X = std_scaler.fit_transform(X)\n",
    "scaled_X"
   ]
  },
  {
   "cell_type": "code",
   "execution_count": 94,
   "id": "c1ba9b01",
   "metadata": {},
   "outputs": [
    {
     "data": {
      "text/html": [
       "<div>\n",
       "<style scoped>\n",
       "    .dataframe tbody tr th:only-of-type {\n",
       "        vertical-align: middle;\n",
       "    }\n",
       "\n",
       "    .dataframe tbody tr th {\n",
       "        vertical-align: top;\n",
       "    }\n",
       "\n",
       "    .dataframe thead th {\n",
       "        text-align: right;\n",
       "    }\n",
       "</style>\n",
       "<table border=\"1\" class=\"dataframe\">\n",
       "  <thead>\n",
       "    <tr style=\"text-align: right;\">\n",
       "      <th></th>\n",
       "      <th>HP</th>\n",
       "      <th>VOL</th>\n",
       "      <th>SP</th>\n",
       "      <th>WT</th>\n",
       "    </tr>\n",
       "  </thead>\n",
       "  <tbody>\n",
       "    <tr>\n",
       "      <th>0</th>\n",
       "      <td>-1.206295</td>\n",
       "      <td>-0.440611</td>\n",
       "      <td>-1.231403</td>\n",
       "      <td>-0.490238</td>\n",
       "    </tr>\n",
       "    <tr>\n",
       "      <th>1</th>\n",
       "      <td>-1.100587</td>\n",
       "      <td>-0.305252</td>\n",
       "      <td>-1.140871</td>\n",
       "      <td>-0.261299</td>\n",
       "    </tr>\n",
       "    <tr>\n",
       "      <th>2</th>\n",
       "      <td>-1.100587</td>\n",
       "      <td>-0.305252</td>\n",
       "      <td>-1.140871</td>\n",
       "      <td>-0.297993</td>\n",
       "    </tr>\n",
       "    <tr>\n",
       "      <th>3</th>\n",
       "      <td>-0.836315</td>\n",
       "      <td>-0.305252</td>\n",
       "      <td>-0.573239</td>\n",
       "      <td>-0.239103</td>\n",
       "    </tr>\n",
       "    <tr>\n",
       "      <th>4</th>\n",
       "      <td>-1.135823</td>\n",
       "      <td>-0.305252</td>\n",
       "      <td>-1.211826</td>\n",
       "      <td>-0.338878</td>\n",
       "    </tr>\n",
       "    <tr>\n",
       "      <th>...</th>\n",
       "      <td>...</td>\n",
       "      <td>...</td>\n",
       "      <td>...</td>\n",
       "      <td>...</td>\n",
       "    </tr>\n",
       "    <tr>\n",
       "      <th>76</th>\n",
       "      <td>3.603442</td>\n",
       "      <td>-2.200268</td>\n",
       "      <td>3.409929</td>\n",
       "      <td>-2.186236</td>\n",
       "    </tr>\n",
       "    <tr>\n",
       "      <th>77</th>\n",
       "      <td>2.123523</td>\n",
       "      <td>0.732494</td>\n",
       "      <td>2.060245</td>\n",
       "      <td>0.740025</td>\n",
       "    </tr>\n",
       "    <tr>\n",
       "      <th>78</th>\n",
       "      <td>2.563975</td>\n",
       "      <td>-2.200268</td>\n",
       "      <td>2.132755</td>\n",
       "      <td>-2.235028</td>\n",
       "    </tr>\n",
       "    <tr>\n",
       "      <th>79</th>\n",
       "      <td>3.127754</td>\n",
       "      <td>0.912972</td>\n",
       "      <td>3.292567</td>\n",
       "      <td>0.941462</td>\n",
       "    </tr>\n",
       "    <tr>\n",
       "      <th>80</th>\n",
       "      <td>2.088287</td>\n",
       "      <td>0.371539</td>\n",
       "      <td>1.298499</td>\n",
       "      <td>0.340572</td>\n",
       "    </tr>\n",
       "  </tbody>\n",
       "</table>\n",
       "<p>81 rows × 4 columns</p>\n",
       "</div>"
      ],
      "text/plain": [
       "          HP       VOL        SP        WT\n",
       "0  -1.206295 -0.440611 -1.231403 -0.490238\n",
       "1  -1.100587 -0.305252 -1.140871 -0.261299\n",
       "2  -1.100587 -0.305252 -1.140871 -0.297993\n",
       "3  -0.836315 -0.305252 -0.573239 -0.239103\n",
       "4  -1.135823 -0.305252 -1.211826 -0.338878\n",
       "..       ...       ...       ...       ...\n",
       "76  3.603442 -2.200268  3.409929 -2.186236\n",
       "77  2.123523  0.732494  2.060245  0.740025\n",
       "78  2.563975 -2.200268  2.132755 -2.235028\n",
       "79  3.127754  0.912972  3.292567  0.941462\n",
       "80  2.088287  0.371539  1.298499  0.340572\n",
       "\n",
       "[81 rows x 4 columns]"
      ]
     },
     "execution_count": 94,
     "metadata": {},
     "output_type": "execute_result"
    }
   ],
   "source": [
    "scaled_X= pd.DataFrame(data=scaled_X,columns = ['HP','VOL','SP','WT'])\n",
    "scaled_X"
   ]
  },
  {
   "cell_type": "code",
   "execution_count": 95,
   "id": "1c866f36",
   "metadata": {},
   "outputs": [
    {
     "data": {
      "text/plain": [
       "HP    -1.041691e-16\n",
       "VOL    5.825244e-17\n",
       "SP     1.274701e-15\n",
       "WT     1.170531e-15\n",
       "dtype: float64"
      ]
     },
     "execution_count": 95,
     "metadata": {},
     "output_type": "execute_result"
    }
   ],
   "source": [
    "scaled_X.mean()"
   ]
  },
  {
   "cell_type": "code",
   "execution_count": 96,
   "id": "f3627162",
   "metadata": {},
   "outputs": [
    {
     "data": {
      "text/plain": [
       "HP     1.006231\n",
       "VOL    1.006231\n",
       "SP     1.006231\n",
       "WT     1.006231\n",
       "dtype: float64"
      ]
     },
     "execution_count": 96,
     "metadata": {},
     "output_type": "execute_result"
    }
   ],
   "source": [
    "scaled_X.std()"
   ]
  },
  {
   "cell_type": "markdown",
   "id": "ea019694",
   "metadata": {},
   "source": [
    "### Model Training"
   ]
  },
  {
   "cell_type": "code",
   "execution_count": 97,
   "id": "0dee1133",
   "metadata": {},
   "outputs": [
    {
     "data": {
      "text/plain": [
       "LinearRegression()"
      ]
     },
     "execution_count": 97,
     "metadata": {},
     "output_type": "execute_result"
    }
   ],
   "source": [
    "from sklearn.linear_model import LinearRegression\n",
    "linear_model_2 = LinearRegression()\n",
    "linear_model_2.fit(scaled_X,y)"
   ]
  },
  {
   "cell_type": "markdown",
   "id": "67269e31",
   "metadata": {},
   "source": [
    "### Model Testing"
   ]
  },
  {
   "cell_type": "code",
   "execution_count": 99,
   "id": "119d6f14",
   "metadata": {},
   "outputs": [],
   "source": [
    "y_pred = linear_model_2.predict(scaled_X)"
   ]
  },
  {
   "cell_type": "markdown",
   "id": "db2ac1cd",
   "metadata": {},
   "source": [
    "### Model Evaluation"
   ]
  },
  {
   "cell_type": "code",
   "execution_count": 101,
   "id": "69e5efd2",
   "metadata": {},
   "outputs": [
    {
     "data": {
      "text/html": [
       "<div>\n",
       "<style scoped>\n",
       "    .dataframe tbody tr th:only-of-type {\n",
       "        vertical-align: middle;\n",
       "    }\n",
       "\n",
       "    .dataframe tbody tr th {\n",
       "        vertical-align: top;\n",
       "    }\n",
       "\n",
       "    .dataframe thead th {\n",
       "        text-align: right;\n",
       "    }\n",
       "</style>\n",
       "<table border=\"1\" class=\"dataframe\">\n",
       "  <thead>\n",
       "    <tr style=\"text-align: right;\">\n",
       "      <th></th>\n",
       "      <th>MPG</th>\n",
       "    </tr>\n",
       "  </thead>\n",
       "  <tbody>\n",
       "    <tr>\n",
       "      <th>0</th>\n",
       "      <td>10.258747</td>\n",
       "    </tr>\n",
       "    <tr>\n",
       "      <th>1</th>\n",
       "      <td>7.624608</td>\n",
       "    </tr>\n",
       "    <tr>\n",
       "      <th>2</th>\n",
       "      <td>7.734060</td>\n",
       "    </tr>\n",
       "    <tr>\n",
       "      <th>3</th>\n",
       "      <td>3.157963</td>\n",
       "    </tr>\n",
       "    <tr>\n",
       "      <th>4</th>\n",
       "      <td>8.331584</td>\n",
       "    </tr>\n",
       "    <tr>\n",
       "      <th>...</th>\n",
       "      <td>...</td>\n",
       "    </tr>\n",
       "    <tr>\n",
       "      <th>76</th>\n",
       "      <td>15.617904</td>\n",
       "    </tr>\n",
       "    <tr>\n",
       "      <th>77</th>\n",
       "      <td>1.298838</td>\n",
       "    </tr>\n",
       "    <tr>\n",
       "      <th>78</th>\n",
       "      <td>7.863547</td>\n",
       "    </tr>\n",
       "    <tr>\n",
       "      <th>79</th>\n",
       "      <td>7.517122</td>\n",
       "    </tr>\n",
       "    <tr>\n",
       "      <th>80</th>\n",
       "      <td>-3.458218</td>\n",
       "    </tr>\n",
       "  </tbody>\n",
       "</table>\n",
       "<p>81 rows × 1 columns</p>\n",
       "</div>"
      ],
      "text/plain": [
       "          MPG\n",
       "0   10.258747\n",
       "1    7.624608\n",
       "2    7.734060\n",
       "3    3.157963\n",
       "4    8.331584\n",
       "..        ...\n",
       "76  15.617904\n",
       "77   1.298838\n",
       "78   7.863547\n",
       "79   7.517122\n",
       "80  -3.458218\n",
       "\n",
       "[81 rows x 1 columns]"
      ]
     },
     "execution_count": 101,
     "metadata": {},
     "output_type": "execute_result"
    }
   ],
   "source": [
    "error = y - y_pred\n",
    "error"
   ]
  },
  {
   "cell_type": "markdown",
   "id": "88fb306e",
   "metadata": {},
   "source": [
    "### 5. Test for Homoscedasticity"
   ]
  },
  {
   "cell_type": "code",
   "execution_count": 103,
   "id": "4c972245",
   "metadata": {},
   "outputs": [
    {
     "data": {
      "image/png": "[encoded data removed]",
      "text/plain": [
       "<Figure size 432x288 with 1 Axes>"
      ]
     },
     "metadata": {
      "needs_background": "light"
     },
     "output_type": "display_data"
    }
   ],
   "source": [
    "plt.scatter(x = scaled_X['HP'], y=error)\n",
    "plt.title('Homoscedasticity Check - scaled_HP Vs Error')\n",
    "plt.xlabel('Scaled_HP')\n",
    "plt.ylabel('Error')\n",
    "plt.show()"
   ]
  },
  {
   "cell_type": "code",
   "execution_count": 104,
   "id": "bafbe21a",
   "metadata": {},
   "outputs": [
    {
     "data": {
      "image/png": "[encoded data removed]",
      "text/plain": [
       "<Figure size 432x288 with 1 Axes>"
      ]
     },
     "metadata": {
      "needs_background": "light"
     },
     "output_type": "display_data"
    }
   ],
   "source": [
    "plt.scatter(x = scaled_X['VOL'], y=error)\n",
    "plt.title('Homoscedasticity Check - scaled_VOL Vs Error')\n",
    "plt.xlabel('Scaled_VOL')\n",
    "plt.ylabel('Error')\n",
    "plt.show()"
   ]
  },
  {
   "cell_type": "code",
   "execution_count": 105,
   "id": "080d55d7",
   "metadata": {},
   "outputs": [
    {
     "data": {
      "image/png": "[encoded data removed]",
      "text/plain": [
       "<Figure size 432x288 with 1 Axes>"
      ]
     },
     "metadata": {
      "needs_background": "light"
     },
     "output_type": "display_data"
    }
   ],
   "source": [
    "plt.scatter(x = scaled_X['WT'], y=error)\n",
    "plt.title('Homoscedasticity Check - scaled_WT Vs Error')\n",
    "plt.xlabel('Scaled_WT')\n",
    "plt.ylabel('Error')\n",
    "plt.show()"
   ]
  },
  {
   "cell_type": "code",
   "execution_count": 106,
   "id": "468b5007",
   "metadata": {},
   "outputs": [
    {
     "data": {
      "image/png": "[encoded data removed]",
      "text/plain": [
       "<Figure size 432x288 with 1 Axes>"
      ]
     },
     "metadata": {
      "needs_background": "light"
     },
     "output_type": "display_data"
    }
   ],
   "source": [
    "plt.scatter(x = scaled_X['SP'], y=error)\n",
    "plt.title('Homoscedasticity Check - scaled_SP Vs Error')\n",
    "plt.xlabel('Scaled_SP')\n",
    "plt.ylabel('Error')\n",
    "plt.show()"
   ]
  },
  {
   "cell_type": "markdown",
   "id": "25da4b03",
   "metadata": {},
   "source": [
    "### Observation\n",
    "\n",
    "Homoscedasticity Check **failed**."
   ]
  },
  {
   "cell_type": "markdown",
   "id": "6cc4fc77",
   "metadata": {},
   "source": [
    "### 6. Test for Zero Residual Mean"
   ]
  },
  {
   "cell_type": "code",
   "execution_count": 107,
   "id": "5a8c76d3",
   "metadata": {},
   "outputs": [
    {
     "data": {
      "text/html": [
       "<div>\n",
       "<style scoped>\n",
       "    .dataframe tbody tr th:only-of-type {\n",
       "        vertical-align: middle;\n",
       "    }\n",
       "\n",
       "    .dataframe tbody tr th {\n",
       "        vertical-align: top;\n",
       "    }\n",
       "\n",
       "    .dataframe thead th {\n",
       "        text-align: right;\n",
       "    }\n",
       "</style>\n",
       "<table border=\"1\" class=\"dataframe\">\n",
       "  <thead>\n",
       "    <tr style=\"text-align: right;\">\n",
       "      <th></th>\n",
       "      <th>MPG</th>\n",
       "    </tr>\n",
       "  </thead>\n",
       "  <tbody>\n",
       "    <tr>\n",
       "      <th>0</th>\n",
       "      <td>53.700681</td>\n",
       "    </tr>\n",
       "    <tr>\n",
       "      <th>1</th>\n",
       "      <td>50.013401</td>\n",
       "    </tr>\n",
       "    <tr>\n",
       "      <th>2</th>\n",
       "      <td>50.013401</td>\n",
       "    </tr>\n",
       "    <tr>\n",
       "      <th>3</th>\n",
       "      <td>45.696322</td>\n",
       "    </tr>\n",
       "    <tr>\n",
       "      <th>4</th>\n",
       "      <td>50.504232</td>\n",
       "    </tr>\n",
       "    <tr>\n",
       "      <th>...</th>\n",
       "      <td>...</td>\n",
       "    </tr>\n",
       "    <tr>\n",
       "      <th>76</th>\n",
       "      <td>36.900000</td>\n",
       "    </tr>\n",
       "    <tr>\n",
       "      <th>77</th>\n",
       "      <td>19.197888</td>\n",
       "    </tr>\n",
       "    <tr>\n",
       "      <th>78</th>\n",
       "      <td>34.000000</td>\n",
       "    </tr>\n",
       "    <tr>\n",
       "      <th>79</th>\n",
       "      <td>19.833733</td>\n",
       "    </tr>\n",
       "    <tr>\n",
       "      <th>80</th>\n",
       "      <td>12.101263</td>\n",
       "    </tr>\n",
       "  </tbody>\n",
       "</table>\n",
       "<p>81 rows × 1 columns</p>\n",
       "</div>"
      ],
      "text/plain": [
       "          MPG\n",
       "0   53.700681\n",
       "1   50.013401\n",
       "2   50.013401\n",
       "3   45.696322\n",
       "4   50.504232\n",
       "..        ...\n",
       "76  36.900000\n",
       "77  19.197888\n",
       "78  34.000000\n",
       "79  19.833733\n",
       "80  12.101263\n",
       "\n",
       "[81 rows x 1 columns]"
      ]
     },
     "execution_count": 107,
     "metadata": {},
     "output_type": "execute_result"
    }
   ],
   "source": [
    "y"
   ]
  },
  {
   "cell_type": "code",
   "execution_count": 109,
   "id": "a68c6bed",
   "metadata": {},
   "outputs": [
    {
     "data": {
      "image/png": "[encoded data removed]",
      "text/plain": [
       "<Figure size 432x288 with 1 Axes>"
      ]
     },
     "metadata": {
      "needs_background": "light"
     },
     "output_type": "display_data"
    }
   ],
   "source": [
    "plt.scatter(x = y,y = y_pred)\n",
    "plt.title('Zero Residual Mean - Actual O/p Vs Predicted O/p')\n",
    "plt.xlabel('Actual Output')\n",
    "plt.ylabel('Predicted Output')\n",
    "plt.show()"
   ]
  },
  {
   "cell_type": "markdown",
   "id": "1a693e44",
   "metadata": {},
   "source": [
    "### Observation:\n",
    "\n",
    "Zero Residual Mean Test is also Fails."
   ]
  }
 ],
 "metadata": {
  "kernelspec": {
   "display_name": "Python 3",
   "language": "python",
   "name": "python3"
  },
  "language_info": {
   "codemirror_mode": {
    "name": "ipython",
    "version": 3
   },
   "file_extension": ".py",
   "mimetype": "text/x-python",
   "name": "python",
   "nbconvert_exporter": "python",
   "pygments_lexer": "ipython3",
   "version": "3.8.8"
  }
 },
 "nbformat": 4,
 "nbformat_minor": 5
}
